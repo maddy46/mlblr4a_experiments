{
  "nbformat": 4,
  "nbformat_minor": 0,
  "metadata": {
    "colab": {
      "name": "DNST_CIFAR10_AUG.ipynb",
      "version": "0.3.2",
      "provenance": []
    },
    "kernelspec": {
      "name": "python3",
      "display_name": "Python 3"
    },
    "accelerator": "GPU"
  },
  "cells": [
    {
      "cell_type": "markdown",
      "metadata": {
        "id": "view-in-github",
        "colab_type": "text"
      },
      "source": [
        "[View in Colaboratory](https://colab.research.google.com/github/maddy46/mlblr4a_experiments/blob/master/DNST_CIFAR10_AUG_final.ipynb)"
      ]
    },
    {
      "metadata": {
        "id": "K70hAckqg0EA",
        "colab_type": "code",
        "colab": {
          "base_uri": "https://localhost:8080/",
          "height": 36
        },
        "outputId": "26c5a031-24d4-4ff8-b940-b8dbd22bf35c"
      },
      "cell_type": "code",
      "source": [
        "# https://keras.io/\n",
        "!pip install -q keras\n",
        "import keras"
      ],
      "execution_count": 1,
      "outputs": [
        {
          "output_type": "stream",
          "text": [
            "Using TensorFlow backend.\n"
          ],
          "name": "stderr"
        }
      ]
    },
    {
      "metadata": {
        "id": "wVIx_KIigxPV",
        "colab_type": "code",
        "colab": {
          "base_uri": "https://localhost:8080/",
          "height": 17
        },
        "outputId": "df66787a-8c8c-419d-b084-ac0774d97868"
      },
      "cell_type": "code",
      "source": [
        "import keras\n",
        "from keras.datasets import cifar10\n",
        "from keras.models import Model, Sequential\n",
        "from keras.layers import Dense, Dropout, Flatten, Input, AveragePooling2D, merge, Activation\n",
        "from keras.layers import Conv2D, MaxPooling2D, BatchNormalization\n",
        "from keras.layers import Concatenate\n",
        "from keras.optimizers import Adam\n",
        "from keras.preprocessing.image import ImageDataGenerator\n",
        "import cv2\n",
        "import numpy as np\n",
        "from matplotlib import pyplot as plt"
      ],
      "execution_count": 2,
      "outputs": []
    },
    {
      "metadata": {
        "id": "UNHw6luQg3gc",
        "colab_type": "code",
        "colab": {
          "base_uri": "https://localhost:8080/",
          "height": 17
        },
        "outputId": "807b3817-35c6-4d59-8875-c377da57542b"
      },
      "cell_type": "code",
      "source": [
        "# this part will prevent tensorflow to allocate all the avaliable GPU Memory\n",
        "# backend\n",
        "import tensorflow as tf\n",
        "from keras import backend as k\n",
        "\n",
        "# Don't pre-allocate memory; allocate as-needed\n",
        "config = tf.ConfigProto()\n",
        "config.gpu_options.allow_growth = True\n",
        "\n",
        "# Create a session with the above options specified.\n",
        "k.tensorflow_backend.set_session(tf.Session(config=config))"
      ],
      "execution_count": 3,
      "outputs": []
    },
    {
      "metadata": {
        "id": "HyZhR1RK-dZn",
        "colab_type": "code",
        "colab": {
          "base_uri": "https://localhost:8080/",
          "height": 394
        },
        "outputId": "3cff5e73-9781-48eb-9aaa-2be6e7899776"
      },
      "cell_type": "code",
      "source": [
        "!ln -sf /opt/bin/nvidia-smi /usr/bin/nvidia-smi\n",
        "!pip install gputil\n",
        "!pip install psutil\n",
        "!pip install humanize\n",
        "import psutil\n",
        "import humanize\n",
        "import os\n",
        "import GPUtil as GPU\n",
        "GPUs = GPU.getGPUs()\n",
        "# XXX: only one GPU on Colab and isn’t guaranteed\n",
        "gpu = GPUs[0]\n",
        "def printm():\n",
        " process = psutil.Process(os.getpid())\n",
        " print(\"Gen RAM Free: \" + humanize.naturalsize( psutil.virtual_memory().available ), \" I Proc size: \" + humanize.naturalsize( process.memory_info().rss))\n",
        " print(\"GPU RAM Free: {0:.0f}MB | Used: {1:.0f}MB | Util {2:3.0f}% | Total {3:.0f}MB\".format(gpu.memoryFree, gpu.memoryUsed, gpu.memoryUtil*100, gpu.memoryTotal))\n",
        "printm()"
      ],
      "execution_count": 4,
      "outputs": [
        {
          "output_type": "stream",
          "text": [
            "Collecting gputil\n",
            "  Downloading https://files.pythonhosted.org/packages/45/99/837428d26b47ebd6b66d6e1b180e98ec4a557767a93a81a02ea9d6242611/GPUtil-1.3.0.tar.gz\n",
            "Requirement already satisfied: numpy in /usr/local/lib/python3.6/dist-packages (from gputil) (1.14.3)\n",
            "Building wheels for collected packages: gputil\n",
            "  Running setup.py bdist_wheel for gputil ... \u001b[?25l-\b \bdone\n",
            "\u001b[?25h  Stored in directory: /content/.cache/pip/wheels/17/0f/04/b79c006972335e35472c0b835ed52bfc0815258d409f560108\n",
            "Successfully built gputil\n",
            "Installing collected packages: gputil\n",
            "Successfully installed gputil-1.3.0\n",
            "Requirement already satisfied: psutil in /usr/local/lib/python3.6/dist-packages (5.4.5)\n",
            "Collecting humanize\n",
            "  Downloading https://files.pythonhosted.org/packages/8c/e0/e512e4ac6d091fc990bbe13f9e0378f34cf6eecd1c6c268c9e598dcf5bb9/humanize-0.5.1.tar.gz\n",
            "Building wheels for collected packages: humanize\n",
            "  Running setup.py bdist_wheel for humanize ... \u001b[?25l-\b \bdone\n",
            "\u001b[?25h  Stored in directory: /content/.cache/pip/wheels/69/86/6c/f8b8593bc273ec4b0c653d3827f7482bb2001a2781a73b7f44\n",
            "Successfully built humanize\n",
            "Installing collected packages: humanize\n",
            "Successfully installed humanize-0.5.1\n",
            "Gen RAM Free: 12.4 GB  I Proc size: 668.5 MB\n",
            "GPU RAM Free: 11330MB | Used: 109MB | Util   1% | Total 11439MB\n"
          ],
          "name": "stdout"
        }
      ]
    },
    {
      "metadata": {
        "id": "Cauplz2iYPtZ",
        "colab_type": "code",
        "colab": {
          "base_uri": "https://localhost:8080/",
          "height": 17
        },
        "outputId": "56222e1e-1e33-4f89-ef9d-f12e0b24bd89"
      },
      "cell_type": "code",
      "source": [
        "!rm utils.py\n",
        "!wget https://raw.githubusercontent.com/Zahlii/colab-tf-utils/master/utils.py\n",
        "import utils\n",
        "import os\n",
        "import keras\n",
        "\n",
        "def compare(best, new):\n",
        "  return best.losses['val_acc'] < new.losses['val_acc']\n",
        "\n",
        "def path(new):\n",
        "  if new.losses['val_acc'] > 0.2:\n",
        "    return '4B_008_%s.h5' % new.losses['val_acc']\n",
        "\n",
        "\n",
        "  \n",
        "saver = utils.GDriveCheckpointer(compare,path)"
      ],
      "execution_count": 5,
      "outputs": []
    },
    {
      "metadata": {
        "id": "E-N5JGnk_jVW",
        "colab_type": "code",
        "colab": {
          "base_uri": "https://localhost:8080/",
          "height": 17
        },
        "outputId": "9696f6da-9fc2-42ce-9e23-3e0a7bda4a4f"
      },
      "cell_type": "code",
      "source": [
        "# Hyperparameters\n",
        "num_classes = 10\n",
        "epochs =50\n",
        "num_filter = 64\n",
        "compression = 0.5\n",
        "dropout_rate = 0.25\n",
        "l = 6\n",
        "batch_size = 32"
      ],
      "execution_count": 6,
      "outputs": []
    },
    {
      "metadata": {
        "id": "mB7o3zu1g6eT",
        "colab_type": "code",
        "colab": {
          "base_uri": "https://localhost:8080/",
          "height": 92
        },
        "outputId": "5830b46f-f7fc-446a-c708-d59cce77629c"
      },
      "cell_type": "code",
      "source": [
        "# Load CIFAR10 Data\n",
        "(x_train, y_train), (x_test, y_test) = cifar10.load_data()\n",
        "img_height, img_width, channel = x_train.shape[1],x_train.shape[2],x_train.shape[3]\n",
        "print (img_height)\n",
        "print (img_width)\n",
        "\n",
        "# convert to one hot encoing \n",
        "y_train = keras.utils.to_categorical(y_train, num_classes)\n",
        "y_test = keras.utils.to_categorical(y_test, num_classes)"
      ],
      "execution_count": 7,
      "outputs": [
        {
          "output_type": "stream",
          "text": [
            "Downloading data from https://www.cs.toronto.edu/~kriz/cifar-10-python.tar.gz\n",
            "170500096/170498071 [==============================] - 28s 0us/step\n",
            "32\n",
            "32\n"
          ],
          "name": "stdout"
        }
      ]
    },
    {
      "metadata": {
        "id": "UNEhips_IZuH",
        "colab_type": "code",
        "colab": {
          "base_uri": "https://localhost:8080/",
          "height": 55
        },
        "outputId": "629e2de4-4434-4560-d2ba-43086be1bdd3"
      },
      "cell_type": "code",
      "source": [
        "print (x_train.shape[0])\n",
        "print (x_test.shape[0])"
      ],
      "execution_count": 8,
      "outputs": [
        {
          "output_type": "stream",
          "text": [
            "50000\n",
            "10000\n"
          ],
          "name": "stdout"
        }
      ]
    },
    {
      "metadata": {
        "id": "eSJeTVeo_tmf",
        "colab_type": "code",
        "colab": {
          "base_uri": "https://localhost:8080/",
          "height": 56
        },
        "outputId": "a93d8b3c-f330-44ee-e415-f16e245bae4e"
      },
      "cell_type": "code",
      "source": [
        "'''\n",
        "new_images = np.empty((50000, 32, 32, 3), dtype='uint8')\n",
        "new_test = np.empty((10000, 32, 32, 3), dtype='uint8')\n",
        "\n",
        "for image_count in range(x_train.shape[0]):\n",
        "    new_images[image_count] = cv2.resize(x_train[image_count], (32, 32))\n",
        "for image_count1 in range(x_test.shape[0]):\n",
        "    new_test[image_count1] = cv2.resize(x_test[image_count1], (32, 32))\n",
        "img_height1, img_width1, channel1 = new_images.shape[1],new_images.shape[2],new_images.shape[3]\n",
        "print (img_height1)\n",
        "print (img_width1)\n",
        "\n",
        "print('x resizing Done.')\n",
        "'''"
      ],
      "execution_count": 9,
      "outputs": [
        {
          "output_type": "execute_result",
          "data": {
            "text/plain": [
              "\"\\nnew_images = np.empty((50000, 32, 32, 3), dtype='uint8')\\nnew_test = np.empty((10000, 32, 32, 3), dtype='uint8')\\n\\nfor image_count in range(x_train.shape[0]):\\n    new_images[image_count] = cv2.resize(x_train[image_count], (32, 32))\\nfor image_count1 in range(x_test.shape[0]):\\n    new_test[image_count1] = cv2.resize(x_test[image_count1], (32, 32))\\nimg_height1, img_width1, channel1 = new_images.shape[1],new_images.shape[2],new_images.shape[3]\\nprint (img_height1)\\nprint (img_width1)\\n\\nprint('x resizing Done.')\\n\""
            ]
          },
          "metadata": {
            "tags": []
          },
          "execution_count": 9
        }
      ]
    },
    {
      "metadata": {
        "id": "7BgUOP3gZqnj",
        "colab_type": "code",
        "colab": {
          "base_uri": "https://localhost:8080/",
          "height": 17
        },
        "outputId": "74a724e2-58e6-417d-d6f4-f7fd1ff32ed6"
      },
      "cell_type": "code",
      "source": [
        "datagen = ImageDataGenerator(zoom_range=0.2, rotation_range=20,width_shift_range=0.2,height_shift_range=0.2)\n",
        "datagen.fit(x_train)"
      ],
      "execution_count": 10,
      "outputs": []
    },
    {
      "metadata": {
        "id": "ee-sge5Kg7vr",
        "colab_type": "code",
        "colab": {
          "base_uri": "https://localhost:8080/",
          "height": 17
        },
        "outputId": "467cf532-f8e7-498a-e932-58ff8e169bf2"
      },
      "cell_type": "code",
      "source": [
        "# Dense Block\n",
        "def add_denseblock(input, num_filter = 12, dropout_rate = 0.2):\n",
        "    global compression\n",
        "    temp = input\n",
        "    for _ in range(l):\n",
        "        BatchNorm = BatchNormalization()(temp)\n",
        "        relu = Activation('relu')(BatchNorm)\n",
        "        Conv2D_3_3 = Conv2D(int(num_filter*compression), (3,3), use_bias=False ,padding='same')(relu)\n",
        "        if dropout_rate>0:\n",
        "          Conv2D_3_3 = Dropout(dropout_rate)(Conv2D_3_3)\n",
        "        concat = Concatenate(axis=-1)([temp,Conv2D_3_3])\n",
        "        \n",
        "        temp = concat\n",
        "        \n",
        "    return temp"
      ],
      "execution_count": 11,
      "outputs": []
    },
    {
      "metadata": {
        "id": "OOP6IPsGhBwb",
        "colab_type": "code",
        "colab": {
          "base_uri": "https://localhost:8080/",
          "height": 17
        },
        "outputId": "ff6483bb-a604-45e8-d59e-6ac36a8383b9"
      },
      "cell_type": "code",
      "source": [
        "def add_transition(input, num_filter = 12, dropout_rate = 0.2):\n",
        "    global compression\n",
        "    BatchNorm = BatchNormalization()(input)\n",
        "    relu = Activation('relu')(BatchNorm)\n",
        "    Conv2D_BottleNeck = Conv2D(int(num_filter*compression), (1,1), use_bias=False ,padding='same')(relu)\n",
        "    if dropout_rate>0:\n",
        "      Conv2D_BottleNeck = Dropout(dropout_rate)(Conv2D_BottleNeck)\n",
        "    avg = AveragePooling2D(pool_size=(2,2))(Conv2D_BottleNeck)\n",
        "    \n",
        "    return avg"
      ],
      "execution_count": 12,
      "outputs": []
    },
    {
      "metadata": {
        "id": "0RaKFpubhDIC",
        "colab_type": "code",
        "colab": {
          "base_uri": "https://localhost:8080/",
          "height": 17
        },
        "outputId": "122d4102-ec2c-4c81-d8ad-f41046a2f936"
      },
      "cell_type": "code",
      "source": [
        "def output_layer(input):\n",
        "    global compression\n",
        "    BatchNorm = BatchNormalization()(input)\n",
        "    relu = Activation('relu')(BatchNorm)\n",
        "    AvgPooling = AveragePooling2D(pool_size=(2,2))(relu)\n",
        "    flat = Flatten()(AvgPooling)\n",
        "    output = Dense(num_classes, activation='softmax')(flat)\n",
        "    \n",
        "    return output"
      ],
      "execution_count": 13,
      "outputs": []
    },
    {
      "metadata": {
        "id": "anPCpQWhhGb7",
        "colab_type": "code",
        "colab": {
          "base_uri": "https://localhost:8080/",
          "height": 36
        },
        "outputId": "399d02a1-95f5-4a13-dc43-a18d597038a5"
      },
      "cell_type": "code",
      "source": [
        "\n",
        "input = Input(shape=(img_height, img_width, channel,))\n",
        "print(channel)\n",
        "First_Conv2D = Conv2D(num_filter, (3,3), use_bias=False ,padding='same')(input)\n",
        "\n",
        "First_Block = add_denseblock(First_Conv2D, num_filter, dropout_rate)\n",
        "First_Transition = add_transition(First_Block, num_filter, dropout_rate)\n",
        "\n",
        "Second_Block = add_denseblock(First_Transition, num_filter, dropout_rate)\n",
        "Second_Transition = add_transition(Second_Block, num_filter, dropout_rate)\n",
        "\n",
        "Third_Block = add_denseblock(Second_Transition, num_filter, dropout_rate)\n",
        "Third_Transition = add_transition(Third_Block, num_filter, dropout_rate)\n",
        "\n",
        "Last_Block = add_denseblock(Third_Transition,  num_filter, dropout_rate)\n",
        "output = output_layer(Last_Block)\n",
        "#output = output_layer(First_Block)\n"
      ],
      "execution_count": 14,
      "outputs": [
        {
          "output_type": "stream",
          "text": [
            "3\n"
          ],
          "name": "stdout"
        }
      ]
    },
    {
      "metadata": {
        "id": "1kFh7pdxhNtT",
        "colab_type": "code",
        "colab": {
          "base_uri": "https://localhost:8080/",
          "height": 5960
        },
        "outputId": "d40baf17-8532-4cdc-bc99-42692f9b4fe4"
      },
      "cell_type": "code",
      "source": [
        "model = Model(inputs=[input], outputs=[output])\n",
        "model.summary()"
      ],
      "execution_count": 15,
      "outputs": [
        {
          "output_type": "stream",
          "text": [
            "__________________________________________________________________________________________________\n",
            "Layer (type)                    Output Shape         Param #     Connected to                     \n",
            "==================================================================================================\n",
            "input_1 (InputLayer)            (None, 32, 32, 3)    0                                            \n",
            "__________________________________________________________________________________________________\n",
            "conv2d_1 (Conv2D)               (None, 32, 32, 64)   1728        input_1[0][0]                    \n",
            "__________________________________________________________________________________________________\n",
            "batch_normalization_1 (BatchNor (None, 32, 32, 64)   256         conv2d_1[0][0]                   \n",
            "__________________________________________________________________________________________________\n",
            "activation_1 (Activation)       (None, 32, 32, 64)   0           batch_normalization_1[0][0]      \n",
            "__________________________________________________________________________________________________\n",
            "conv2d_2 (Conv2D)               (None, 32, 32, 32)   18432       activation_1[0][0]               \n",
            "__________________________________________________________________________________________________\n",
            "dropout_1 (Dropout)             (None, 32, 32, 32)   0           conv2d_2[0][0]                   \n",
            "__________________________________________________________________________________________________\n",
            "concatenate_1 (Concatenate)     (None, 32, 32, 96)   0           conv2d_1[0][0]                   \n",
            "                                                                 dropout_1[0][0]                  \n",
            "__________________________________________________________________________________________________\n",
            "batch_normalization_2 (BatchNor (None, 32, 32, 96)   384         concatenate_1[0][0]              \n",
            "__________________________________________________________________________________________________\n",
            "activation_2 (Activation)       (None, 32, 32, 96)   0           batch_normalization_2[0][0]      \n",
            "__________________________________________________________________________________________________\n",
            "conv2d_3 (Conv2D)               (None, 32, 32, 32)   27648       activation_2[0][0]               \n",
            "__________________________________________________________________________________________________\n",
            "dropout_2 (Dropout)             (None, 32, 32, 32)   0           conv2d_3[0][0]                   \n",
            "__________________________________________________________________________________________________\n",
            "concatenate_2 (Concatenate)     (None, 32, 32, 128)  0           concatenate_1[0][0]              \n",
            "                                                                 dropout_2[0][0]                  \n",
            "__________________________________________________________________________________________________\n",
            "batch_normalization_3 (BatchNor (None, 32, 32, 128)  512         concatenate_2[0][0]              \n",
            "__________________________________________________________________________________________________\n",
            "activation_3 (Activation)       (None, 32, 32, 128)  0           batch_normalization_3[0][0]      \n",
            "__________________________________________________________________________________________________\n",
            "conv2d_4 (Conv2D)               (None, 32, 32, 32)   36864       activation_3[0][0]               \n",
            "__________________________________________________________________________________________________\n",
            "dropout_3 (Dropout)             (None, 32, 32, 32)   0           conv2d_4[0][0]                   \n",
            "__________________________________________________________________________________________________\n",
            "concatenate_3 (Concatenate)     (None, 32, 32, 160)  0           concatenate_2[0][0]              \n",
            "                                                                 dropout_3[0][0]                  \n",
            "__________________________________________________________________________________________________\n",
            "batch_normalization_4 (BatchNor (None, 32, 32, 160)  640         concatenate_3[0][0]              \n",
            "__________________________________________________________________________________________________\n",
            "activation_4 (Activation)       (None, 32, 32, 160)  0           batch_normalization_4[0][0]      \n",
            "__________________________________________________________________________________________________\n",
            "conv2d_5 (Conv2D)               (None, 32, 32, 32)   46080       activation_4[0][0]               \n",
            "__________________________________________________________________________________________________\n",
            "dropout_4 (Dropout)             (None, 32, 32, 32)   0           conv2d_5[0][0]                   \n",
            "__________________________________________________________________________________________________\n",
            "concatenate_4 (Concatenate)     (None, 32, 32, 192)  0           concatenate_3[0][0]              \n",
            "                                                                 dropout_4[0][0]                  \n",
            "__________________________________________________________________________________________________\n",
            "batch_normalization_5 (BatchNor (None, 32, 32, 192)  768         concatenate_4[0][0]              \n",
            "__________________________________________________________________________________________________\n",
            "activation_5 (Activation)       (None, 32, 32, 192)  0           batch_normalization_5[0][0]      \n",
            "__________________________________________________________________________________________________\n",
            "conv2d_6 (Conv2D)               (None, 32, 32, 32)   55296       activation_5[0][0]               \n",
            "__________________________________________________________________________________________________\n",
            "dropout_5 (Dropout)             (None, 32, 32, 32)   0           conv2d_6[0][0]                   \n",
            "__________________________________________________________________________________________________\n",
            "concatenate_5 (Concatenate)     (None, 32, 32, 224)  0           concatenate_4[0][0]              \n",
            "                                                                 dropout_5[0][0]                  \n",
            "__________________________________________________________________________________________________\n",
            "batch_normalization_6 (BatchNor (None, 32, 32, 224)  896         concatenate_5[0][0]              \n",
            "__________________________________________________________________________________________________\n",
            "activation_6 (Activation)       (None, 32, 32, 224)  0           batch_normalization_6[0][0]      \n",
            "__________________________________________________________________________________________________\n",
            "conv2d_7 (Conv2D)               (None, 32, 32, 32)   64512       activation_6[0][0]               \n",
            "__________________________________________________________________________________________________\n",
            "dropout_6 (Dropout)             (None, 32, 32, 32)   0           conv2d_7[0][0]                   \n",
            "__________________________________________________________________________________________________\n",
            "concatenate_6 (Concatenate)     (None, 32, 32, 256)  0           concatenate_5[0][0]              \n",
            "                                                                 dropout_6[0][0]                  \n",
            "__________________________________________________________________________________________________\n",
            "batch_normalization_7 (BatchNor (None, 32, 32, 256)  1024        concatenate_6[0][0]              \n",
            "__________________________________________________________________________________________________\n",
            "activation_7 (Activation)       (None, 32, 32, 256)  0           batch_normalization_7[0][0]      \n",
            "__________________________________________________________________________________________________\n",
            "conv2d_8 (Conv2D)               (None, 32, 32, 32)   8192        activation_7[0][0]               \n",
            "__________________________________________________________________________________________________\n",
            "dropout_7 (Dropout)             (None, 32, 32, 32)   0           conv2d_8[0][0]                   \n",
            "__________________________________________________________________________________________________\n",
            "average_pooling2d_1 (AveragePoo (None, 16, 16, 32)   0           dropout_7[0][0]                  \n",
            "__________________________________________________________________________________________________\n",
            "batch_normalization_8 (BatchNor (None, 16, 16, 32)   128         average_pooling2d_1[0][0]        \n",
            "__________________________________________________________________________________________________\n",
            "activation_8 (Activation)       (None, 16, 16, 32)   0           batch_normalization_8[0][0]      \n",
            "__________________________________________________________________________________________________\n",
            "conv2d_9 (Conv2D)               (None, 16, 16, 32)   9216        activation_8[0][0]               \n",
            "__________________________________________________________________________________________________\n",
            "dropout_8 (Dropout)             (None, 16, 16, 32)   0           conv2d_9[0][0]                   \n",
            "__________________________________________________________________________________________________\n",
            "concatenate_7 (Concatenate)     (None, 16, 16, 64)   0           average_pooling2d_1[0][0]        \n",
            "                                                                 dropout_8[0][0]                  \n",
            "__________________________________________________________________________________________________\n",
            "batch_normalization_9 (BatchNor (None, 16, 16, 64)   256         concatenate_7[0][0]              \n",
            "__________________________________________________________________________________________________\n",
            "activation_9 (Activation)       (None, 16, 16, 64)   0           batch_normalization_9[0][0]      \n",
            "__________________________________________________________________________________________________\n",
            "conv2d_10 (Conv2D)              (None, 16, 16, 32)   18432       activation_9[0][0]               \n",
            "__________________________________________________________________________________________________\n",
            "dropout_9 (Dropout)             (None, 16, 16, 32)   0           conv2d_10[0][0]                  \n",
            "__________________________________________________________________________________________________\n",
            "concatenate_8 (Concatenate)     (None, 16, 16, 96)   0           concatenate_7[0][0]              \n",
            "                                                                 dropout_9[0][0]                  \n",
            "__________________________________________________________________________________________________\n",
            "batch_normalization_10 (BatchNo (None, 16, 16, 96)   384         concatenate_8[0][0]              \n",
            "__________________________________________________________________________________________________\n",
            "activation_10 (Activation)      (None, 16, 16, 96)   0           batch_normalization_10[0][0]     \n",
            "__________________________________________________________________________________________________\n",
            "conv2d_11 (Conv2D)              (None, 16, 16, 32)   27648       activation_10[0][0]              \n",
            "__________________________________________________________________________________________________\n",
            "dropout_10 (Dropout)            (None, 16, 16, 32)   0           conv2d_11[0][0]                  \n",
            "__________________________________________________________________________________________________\n",
            "concatenate_9 (Concatenate)     (None, 16, 16, 128)  0           concatenate_8[0][0]              \n",
            "                                                                 dropout_10[0][0]                 \n",
            "__________________________________________________________________________________________________\n",
            "batch_normalization_11 (BatchNo (None, 16, 16, 128)  512         concatenate_9[0][0]              \n",
            "__________________________________________________________________________________________________\n",
            "activation_11 (Activation)      (None, 16, 16, 128)  0           batch_normalization_11[0][0]     \n",
            "__________________________________________________________________________________________________\n",
            "conv2d_12 (Conv2D)              (None, 16, 16, 32)   36864       activation_11[0][0]              \n",
            "__________________________________________________________________________________________________\n",
            "dropout_11 (Dropout)            (None, 16, 16, 32)   0           conv2d_12[0][0]                  \n",
            "__________________________________________________________________________________________________\n",
            "concatenate_10 (Concatenate)    (None, 16, 16, 160)  0           concatenate_9[0][0]              \n",
            "                                                                 dropout_11[0][0]                 \n",
            "__________________________________________________________________________________________________\n",
            "batch_normalization_12 (BatchNo (None, 16, 16, 160)  640         concatenate_10[0][0]             \n",
            "__________________________________________________________________________________________________\n",
            "activation_12 (Activation)      (None, 16, 16, 160)  0           batch_normalization_12[0][0]     \n",
            "__________________________________________________________________________________________________\n",
            "conv2d_13 (Conv2D)              (None, 16, 16, 32)   46080       activation_12[0][0]              \n",
            "__________________________________________________________________________________________________\n",
            "dropout_12 (Dropout)            (None, 16, 16, 32)   0           conv2d_13[0][0]                  \n",
            "__________________________________________________________________________________________________\n",
            "concatenate_11 (Concatenate)    (None, 16, 16, 192)  0           concatenate_10[0][0]             \n",
            "                                                                 dropout_12[0][0]                 \n",
            "__________________________________________________________________________________________________\n",
            "batch_normalization_13 (BatchNo (None, 16, 16, 192)  768         concatenate_11[0][0]             \n",
            "__________________________________________________________________________________________________\n",
            "activation_13 (Activation)      (None, 16, 16, 192)  0           batch_normalization_13[0][0]     \n",
            "__________________________________________________________________________________________________\n",
            "conv2d_14 (Conv2D)              (None, 16, 16, 32)   55296       activation_13[0][0]              \n",
            "__________________________________________________________________________________________________\n",
            "dropout_13 (Dropout)            (None, 16, 16, 32)   0           conv2d_14[0][0]                  \n",
            "__________________________________________________________________________________________________\n",
            "concatenate_12 (Concatenate)    (None, 16, 16, 224)  0           concatenate_11[0][0]             \n",
            "                                                                 dropout_13[0][0]                 \n",
            "__________________________________________________________________________________________________\n",
            "batch_normalization_14 (BatchNo (None, 16, 16, 224)  896         concatenate_12[0][0]             \n",
            "__________________________________________________________________________________________________\n",
            "activation_14 (Activation)      (None, 16, 16, 224)  0           batch_normalization_14[0][0]     \n",
            "__________________________________________________________________________________________________\n",
            "conv2d_15 (Conv2D)              (None, 16, 16, 32)   7168        activation_14[0][0]              \n",
            "__________________________________________________________________________________________________\n",
            "dropout_14 (Dropout)            (None, 16, 16, 32)   0           conv2d_15[0][0]                  \n",
            "__________________________________________________________________________________________________\n",
            "average_pooling2d_2 (AveragePoo (None, 8, 8, 32)     0           dropout_14[0][0]                 \n",
            "__________________________________________________________________________________________________\n",
            "batch_normalization_15 (BatchNo (None, 8, 8, 32)     128         average_pooling2d_2[0][0]        \n",
            "__________________________________________________________________________________________________\n",
            "activation_15 (Activation)      (None, 8, 8, 32)     0           batch_normalization_15[0][0]     \n",
            "__________________________________________________________________________________________________\n",
            "conv2d_16 (Conv2D)              (None, 8, 8, 32)     9216        activation_15[0][0]              \n",
            "__________________________________________________________________________________________________\n",
            "dropout_15 (Dropout)            (None, 8, 8, 32)     0           conv2d_16[0][0]                  \n",
            "__________________________________________________________________________________________________\n",
            "concatenate_13 (Concatenate)    (None, 8, 8, 64)     0           average_pooling2d_2[0][0]        \n",
            "                                                                 dropout_15[0][0]                 \n",
            "__________________________________________________________________________________________________\n",
            "batch_normalization_16 (BatchNo (None, 8, 8, 64)     256         concatenate_13[0][0]             \n",
            "__________________________________________________________________________________________________\n",
            "activation_16 (Activation)      (None, 8, 8, 64)     0           batch_normalization_16[0][0]     \n",
            "__________________________________________________________________________________________________\n",
            "conv2d_17 (Conv2D)              (None, 8, 8, 32)     18432       activation_16[0][0]              \n",
            "__________________________________________________________________________________________________\n",
            "dropout_16 (Dropout)            (None, 8, 8, 32)     0           conv2d_17[0][0]                  \n",
            "__________________________________________________________________________________________________\n",
            "concatenate_14 (Concatenate)    (None, 8, 8, 96)     0           concatenate_13[0][0]             \n",
            "                                                                 dropout_16[0][0]                 \n",
            "__________________________________________________________________________________________________\n",
            "batch_normalization_17 (BatchNo (None, 8, 8, 96)     384         concatenate_14[0][0]             \n",
            "__________________________________________________________________________________________________\n",
            "activation_17 (Activation)      (None, 8, 8, 96)     0           batch_normalization_17[0][0]     \n",
            "__________________________________________________________________________________________________\n",
            "conv2d_18 (Conv2D)              (None, 8, 8, 32)     27648       activation_17[0][0]              \n",
            "__________________________________________________________________________________________________\n",
            "dropout_17 (Dropout)            (None, 8, 8, 32)     0           conv2d_18[0][0]                  \n",
            "__________________________________________________________________________________________________\n",
            "concatenate_15 (Concatenate)    (None, 8, 8, 128)    0           concatenate_14[0][0]             \n",
            "                                                                 dropout_17[0][0]                 \n",
            "__________________________________________________________________________________________________\n",
            "batch_normalization_18 (BatchNo (None, 8, 8, 128)    512         concatenate_15[0][0]             \n",
            "__________________________________________________________________________________________________\n",
            "activation_18 (Activation)      (None, 8, 8, 128)    0           batch_normalization_18[0][0]     \n",
            "__________________________________________________________________________________________________\n",
            "conv2d_19 (Conv2D)              (None, 8, 8, 32)     36864       activation_18[0][0]              \n",
            "__________________________________________________________________________________________________\n",
            "dropout_18 (Dropout)            (None, 8, 8, 32)     0           conv2d_19[0][0]                  \n",
            "__________________________________________________________________________________________________\n",
            "concatenate_16 (Concatenate)    (None, 8, 8, 160)    0           concatenate_15[0][0]             \n",
            "                                                                 dropout_18[0][0]                 \n",
            "__________________________________________________________________________________________________\n",
            "batch_normalization_19 (BatchNo (None, 8, 8, 160)    640         concatenate_16[0][0]             \n",
            "__________________________________________________________________________________________________\n",
            "activation_19 (Activation)      (None, 8, 8, 160)    0           batch_normalization_19[0][0]     \n",
            "__________________________________________________________________________________________________\n",
            "conv2d_20 (Conv2D)              (None, 8, 8, 32)     46080       activation_19[0][0]              \n",
            "__________________________________________________________________________________________________\n",
            "dropout_19 (Dropout)            (None, 8, 8, 32)     0           conv2d_20[0][0]                  \n",
            "__________________________________________________________________________________________________\n",
            "concatenate_17 (Concatenate)    (None, 8, 8, 192)    0           concatenate_16[0][0]             \n",
            "                                                                 dropout_19[0][0]                 \n",
            "__________________________________________________________________________________________________\n",
            "batch_normalization_20 (BatchNo (None, 8, 8, 192)    768         concatenate_17[0][0]             \n",
            "__________________________________________________________________________________________________\n",
            "activation_20 (Activation)      (None, 8, 8, 192)    0           batch_normalization_20[0][0]     \n",
            "__________________________________________________________________________________________________\n",
            "conv2d_21 (Conv2D)              (None, 8, 8, 32)     55296       activation_20[0][0]              \n",
            "__________________________________________________________________________________________________\n",
            "dropout_20 (Dropout)            (None, 8, 8, 32)     0           conv2d_21[0][0]                  \n",
            "__________________________________________________________________________________________________\n",
            "concatenate_18 (Concatenate)    (None, 8, 8, 224)    0           concatenate_17[0][0]             \n",
            "                                                                 dropout_20[0][0]                 \n",
            "__________________________________________________________________________________________________\n",
            "batch_normalization_21 (BatchNo (None, 8, 8, 224)    896         concatenate_18[0][0]             \n",
            "__________________________________________________________________________________________________\n",
            "activation_21 (Activation)      (None, 8, 8, 224)    0           batch_normalization_21[0][0]     \n",
            "__________________________________________________________________________________________________\n",
            "conv2d_22 (Conv2D)              (None, 8, 8, 32)     7168        activation_21[0][0]              \n",
            "__________________________________________________________________________________________________\n",
            "dropout_21 (Dropout)            (None, 8, 8, 32)     0           conv2d_22[0][0]                  \n",
            "__________________________________________________________________________________________________\n",
            "average_pooling2d_3 (AveragePoo (None, 4, 4, 32)     0           dropout_21[0][0]                 \n",
            "__________________________________________________________________________________________________\n",
            "batch_normalization_22 (BatchNo (None, 4, 4, 32)     128         average_pooling2d_3[0][0]        \n",
            "__________________________________________________________________________________________________\n",
            "activation_22 (Activation)      (None, 4, 4, 32)     0           batch_normalization_22[0][0]     \n",
            "__________________________________________________________________________________________________\n",
            "conv2d_23 (Conv2D)              (None, 4, 4, 32)     9216        activation_22[0][0]              \n",
            "__________________________________________________________________________________________________\n",
            "dropout_22 (Dropout)            (None, 4, 4, 32)     0           conv2d_23[0][0]                  \n",
            "__________________________________________________________________________________________________\n",
            "concatenate_19 (Concatenate)    (None, 4, 4, 64)     0           average_pooling2d_3[0][0]        \n",
            "                                                                 dropout_22[0][0]                 \n",
            "__________________________________________________________________________________________________\n",
            "batch_normalization_23 (BatchNo (None, 4, 4, 64)     256         concatenate_19[0][0]             \n",
            "__________________________________________________________________________________________________\n",
            "activation_23 (Activation)      (None, 4, 4, 64)     0           batch_normalization_23[0][0]     \n",
            "__________________________________________________________________________________________________\n",
            "conv2d_24 (Conv2D)              (None, 4, 4, 32)     18432       activation_23[0][0]              \n",
            "__________________________________________________________________________________________________\n",
            "dropout_23 (Dropout)            (None, 4, 4, 32)     0           conv2d_24[0][0]                  \n",
            "__________________________________________________________________________________________________\n",
            "concatenate_20 (Concatenate)    (None, 4, 4, 96)     0           concatenate_19[0][0]             \n",
            "                                                                 dropout_23[0][0]                 \n",
            "__________________________________________________________________________________________________\n",
            "batch_normalization_24 (BatchNo (None, 4, 4, 96)     384         concatenate_20[0][0]             \n",
            "__________________________________________________________________________________________________\n",
            "activation_24 (Activation)      (None, 4, 4, 96)     0           batch_normalization_24[0][0]     \n",
            "__________________________________________________________________________________________________\n",
            "conv2d_25 (Conv2D)              (None, 4, 4, 32)     27648       activation_24[0][0]              \n",
            "__________________________________________________________________________________________________\n",
            "dropout_24 (Dropout)            (None, 4, 4, 32)     0           conv2d_25[0][0]                  \n",
            "__________________________________________________________________________________________________\n",
            "concatenate_21 (Concatenate)    (None, 4, 4, 128)    0           concatenate_20[0][0]             \n",
            "                                                                 dropout_24[0][0]                 \n",
            "__________________________________________________________________________________________________\n",
            "batch_normalization_25 (BatchNo (None, 4, 4, 128)    512         concatenate_21[0][0]             \n",
            "__________________________________________________________________________________________________\n",
            "activation_25 (Activation)      (None, 4, 4, 128)    0           batch_normalization_25[0][0]     \n",
            "__________________________________________________________________________________________________\n",
            "conv2d_26 (Conv2D)              (None, 4, 4, 32)     36864       activation_25[0][0]              \n",
            "__________________________________________________________________________________________________\n",
            "dropout_25 (Dropout)            (None, 4, 4, 32)     0           conv2d_26[0][0]                  \n",
            "__________________________________________________________________________________________________\n",
            "concatenate_22 (Concatenate)    (None, 4, 4, 160)    0           concatenate_21[0][0]             \n",
            "                                                                 dropout_25[0][0]                 \n",
            "__________________________________________________________________________________________________\n",
            "batch_normalization_26 (BatchNo (None, 4, 4, 160)    640         concatenate_22[0][0]             \n",
            "__________________________________________________________________________________________________\n",
            "activation_26 (Activation)      (None, 4, 4, 160)    0           batch_normalization_26[0][0]     \n",
            "__________________________________________________________________________________________________\n",
            "conv2d_27 (Conv2D)              (None, 4, 4, 32)     46080       activation_26[0][0]              \n",
            "__________________________________________________________________________________________________\n",
            "dropout_26 (Dropout)            (None, 4, 4, 32)     0           conv2d_27[0][0]                  \n",
            "__________________________________________________________________________________________________\n",
            "concatenate_23 (Concatenate)    (None, 4, 4, 192)    0           concatenate_22[0][0]             \n",
            "                                                                 dropout_26[0][0]                 \n",
            "__________________________________________________________________________________________________\n",
            "batch_normalization_27 (BatchNo (None, 4, 4, 192)    768         concatenate_23[0][0]             \n",
            "__________________________________________________________________________________________________\n",
            "activation_27 (Activation)      (None, 4, 4, 192)    0           batch_normalization_27[0][0]     \n",
            "__________________________________________________________________________________________________\n",
            "conv2d_28 (Conv2D)              (None, 4, 4, 32)     55296       activation_27[0][0]              \n",
            "__________________________________________________________________________________________________\n",
            "dropout_27 (Dropout)            (None, 4, 4, 32)     0           conv2d_28[0][0]                  \n",
            "__________________________________________________________________________________________________\n",
            "concatenate_24 (Concatenate)    (None, 4, 4, 224)    0           concatenate_23[0][0]             \n",
            "                                                                 dropout_27[0][0]                 \n",
            "__________________________________________________________________________________________________\n",
            "batch_normalization_28 (BatchNo (None, 4, 4, 224)    896         concatenate_24[0][0]             \n",
            "__________________________________________________________________________________________________\n",
            "activation_28 (Activation)      (None, 4, 4, 224)    0           batch_normalization_28[0][0]     \n",
            "__________________________________________________________________________________________________\n",
            "average_pooling2d_4 (AveragePoo (None, 2, 2, 224)    0           activation_28[0][0]              \n",
            "__________________________________________________________________________________________________\n",
            "flatten_1 (Flatten)             (None, 896)          0           average_pooling2d_4[0][0]        \n",
            "__________________________________________________________________________________________________\n",
            "dense_1 (Dense)                 (None, 10)           8970        flatten_1[0][0]                  \n",
            "==================================================================================================\n",
            "Total params: 877,898\n",
            "Trainable params: 870,282\n",
            "Non-trainable params: 7,616\n",
            "__________________________________________________________________________________________________\n"
          ],
          "name": "stdout"
        }
      ]
    },
    {
      "metadata": {
        "id": "b4XOsW3ahSkL",
        "colab_type": "code",
        "colab": {
          "base_uri": "https://localhost:8080/",
          "height": 17
        },
        "outputId": "fcded2d8-4d9d-44c0-93a8-1ba1ef115d06"
      },
      "cell_type": "code",
      "source": [
        "# determine Loss function and Optimizer\n",
        "model.compile(loss='categorical_crossentropy',\n",
        "              optimizer=Adam(),\n",
        "              metrics=['accuracy'])"
      ],
      "execution_count": 16,
      "outputs": []
    },
    {
      "metadata": {
        "id": "crhGk7kEhXAz",
        "colab_type": "code",
        "colab": {
          "base_uri": "https://localhost:8080/",
          "height": 3169
        },
        "outputId": "4df38b40-c093-4f61-8f09-1710dd28034b"
      },
      "cell_type": "code",
      "source": [
        "'''\n",
        "model.fit(x_train, y_train,\n",
        "                    batch_size=batch_size,\n",
        "                    epochs=epochs,\n",
        "                    verbose=1,\n",
        "                    validation_data=(x_test, y_test),callbacks=cb)\n",
        "                    '''\n",
        "\n",
        "model.fit_generator(datagen.flow(x_train, y_train, batch_size=batch_size), epochs=epochs, \n",
        "                    verbose=1, validation_data=(x_test\n",
        "                                                , y_test),\n",
        "                    steps_per_epoch=len(x_train)/batch_size, callbacks=[saver])"
      ],
      "execution_count": 18,
      "outputs": [
        {
          "output_type": "stream",
          "text": [
            "Epoch 1/50\n",
            "1562/1562 [============================>.] - ETA: 0s - loss: 1.6509 - acc: 0.3957"
          ],
          "name": "stdout"
        },
        {
          "output_type": "stream",
          "text": [
            "\b\b\b\b\b\b\b\b\b\b\b\b\b\b\b\b\b\b\b\b\b\b\b\b\b\b\b\b\b\b\b\b\b\b\b\b\b\b\b\b\b\b\b\b\b\b\b\b\b\b\b\b\b\b\b\b\b\b\b\b\b\b\b\b\b\b\b\b\b\b\b\b\b\b\b\b\b\b\b\b\b\r1563/1562 [==============================] - 298s 191ms/step - loss: 1.6507 - acc: 0.3958 - val_loss: 2.1890 - val_acc: 0.3780\n"
          ],
          "name": "stdout"
        },
        {
          "output_type": "stream",
          "text": [
            "Uploading file 4B_008_0.378.h5 to folder Colab Notebooks: 100%|██████████| 100/100 [00:00<00:00, 105.63it/s]\n"
          ],
          "name": "stderr"
        },
        {
          "output_type": "stream",
          "text": [
            "Epoch 2/50\n",
            "1562/1562 [============================>.] - ETA: 0s - loss: 1.2897 - acc: 0.5359"
          ],
          "name": "stdout"
        },
        {
          "output_type": "stream",
          "text": [
            "\b\b\b\b\b\b\b\b\b\b\b\b\b\b\b\b\b\b\b\b\b\b\b\b\b\b\b\b\b\b\b\b\b\b\b\b\b\b\b\b\b\b\b\b\b\b\b\b\b\b\b\b\b\b\b\b\b\b\b\b\b\b\b\b\b\b\b\b\b\b\b\b\b\b\b\b\b\b\b\b\b\r1563/1562 [==============================] - 292s 187ms/step - loss: 1.2894 - acc: 0.5360 - val_loss: 1.9765 - val_acc: 0.4965\n",
            "Removing old cloud file 4B_008_0.378.h5\n"
          ],
          "name": "stdout"
        },
        {
          "output_type": "stream",
          "text": [
            "Uploading file 4B_008_0.4965.h5 to folder Colab Notebooks: 100%|██████████| 100/100 [00:00<00:00, 127.60it/s]"
          ],
          "name": "stderr"
        },
        {
          "output_type": "stream",
          "text": [
            "Epoch 3/50\n",
            "\r   1/1562 [..............................] - ETA: 4:33 - loss: 1.1088 - acc: 0.6875"
          ],
          "name": "stdout"
        },
        {
          "output_type": "stream",
          "text": [
            "\n"
          ],
          "name": "stderr"
        },
        {
          "output_type": "stream",
          "text": [
            "1562/1562 [============================>.] - ETA: 0s - loss: 1.1359 - acc: 0.5951"
          ],
          "name": "stdout"
        },
        {
          "output_type": "stream",
          "text": [
            "\b\b\b\b\b\b\b\b\b\b\b\b\b\b\b\b\b\b\b\b\b\b\b\b\b\b\b\b\b\b\b\b\b\b\b\b\b\b\b\b\b\b\b\b\b\b\b\b\b\b\b\b\b\b\b\b\b\b\b\b\b\b\b\b\b\b\b\b\b\b\b\b\b\b\b\b\b\b\b\b\b\r1563/1562 [==============================] - 290s 185ms/step - loss: 1.1357 - acc: 0.5951 - val_loss: 1.3737 - val_acc: 0.5906\n",
            "Removing old cloud file 4B_008_0.4965.h5\n"
          ],
          "name": "stdout"
        },
        {
          "output_type": "stream",
          "text": [
            "Uploading file 4B_008_0.5906.h5 to folder Colab Notebooks: 100%|██████████| 100/100 [00:00<00:00, 129.82it/s]"
          ],
          "name": "stderr"
        },
        {
          "output_type": "stream",
          "text": [
            "Epoch 4/50\n",
            "\r   1/1562 [..............................] - ETA: 4:43 - loss: 1.0889 - acc: 0.6250"
          ],
          "name": "stdout"
        },
        {
          "output_type": "stream",
          "text": [
            "\n"
          ],
          "name": "stderr"
        },
        {
          "output_type": "stream",
          "text": [
            "1562/1562 [============================>.] - ETA: 0s - loss: 1.0227 - acc: 0.6401"
          ],
          "name": "stdout"
        },
        {
          "output_type": "stream",
          "text": [
            "\b\b\b\b\b\b\b\b\b\b\b\b\b\b\b\b\b\b\b\b\b\b\b\b\b\b\b\b\b\b\b\b\b\b\b\b\b\b\b\b\b\b\b\b\b\b\b\b\b\b\b\b\b\b\b\b\b\b\b\b\b\b\b\b\b\b\b\b\b\b\b\b\b\b\b\b\b\b\b\b\b\r1563/1562 [==============================] - 290s 185ms/step - loss: 1.0224 - acc: 0.6402 - val_loss: 1.3306 - val_acc: 0.5949\n",
            "Removing old cloud file 4B_008_0.5906.h5\n"
          ],
          "name": "stdout"
        },
        {
          "output_type": "stream",
          "text": [
            "Uploading file 4B_008_0.5949.h5 to folder Colab Notebooks: 100%|██████████| 100/100 [00:01<00:00, 85.84it/s]"
          ],
          "name": "stderr"
        },
        {
          "output_type": "stream",
          "text": [
            "Epoch 5/50\n",
            "\r   1/1562 [..............................] - ETA: 4:29 - loss: 1.0581 - acc: 0.6562"
          ],
          "name": "stdout"
        },
        {
          "output_type": "stream",
          "text": [
            "\n"
          ],
          "name": "stderr"
        },
        {
          "output_type": "stream",
          "text": [
            "1562/1562 [============================>.] - ETA: 0s - loss: 0.9417 - acc: 0.6692"
          ],
          "name": "stdout"
        },
        {
          "output_type": "stream",
          "text": [
            "\b\b\b\b\b\b\b\b\b\b\b\b\b\b\b\b\b\b\b\b\b\b\b\b\b\b\b\b\b\b\b\b\b\b\b\b\b\b\b\b\b\b\b\b\b\b\b\b\b\b\b\b\b\b\b\b\b\b\b\b\b\b\b\b\b\b\b\b\b\b\b\b\b\b\b\b\b\b\b\b\b\r1563/1562 [==============================] - 290s 185ms/step - loss: 0.9416 - acc: 0.6692 - val_loss: 1.0868 - val_acc: 0.6835\n",
            "Removing old cloud file 4B_008_0.5949.h5\n"
          ],
          "name": "stdout"
        },
        {
          "output_type": "stream",
          "text": [
            "Uploading file 4B_008_0.6835.h5 to folder Colab Notebooks: 100%|██████████| 100/100 [00:00<00:00, 123.25it/s]"
          ],
          "name": "stderr"
        },
        {
          "output_type": "stream",
          "text": [
            "Epoch 6/50\n",
            "\r   1/1562 [..............................] - ETA: 4:42 - loss: 0.8065 - acc: 0.6875"
          ],
          "name": "stdout"
        },
        {
          "output_type": "stream",
          "text": [
            "\n"
          ],
          "name": "stderr"
        },
        {
          "output_type": "stream",
          "text": [
            "1562/1562 [============================>.] - ETA: 0s - loss: 0.8728 - acc: 0.6958"
          ],
          "name": "stdout"
        },
        {
          "output_type": "stream",
          "text": [
            "1563/1562 [==============================] - 289s 185ms/step - loss: 0.8726 - acc: 0.6959 - val_loss: 1.2525 - val_acc: 0.6617\n",
            "No improvement.\n",
            "Epoch 7/50\n",
            " 421/1562 [=======>......................] - ETA: 3:19 - loss: 0.8141 - acc: 0.7144"
          ],
          "name": "stdout"
        },
        {
          "output_type": "stream",
          "text": [
            "1563/1562 [==============================] - 290s 185ms/step - loss: 0.8200 - acc: 0.7129 - val_loss: 1.0344 - val_acc: 0.6738\n",
            "No improvement.\n",
            "Epoch 8/50\n",
            "  23/1562 [..............................] - ETA: 4:28 - loss: 0.8131 - acc: 0.7065"
          ],
          "name": "stdout"
        },
        {
          "output_type": "stream",
          "text": [
            "1562/1562 [============================>.] - ETA: 0s - loss: 0.7809 - acc: 0.7279"
          ],
          "name": "stdout"
        },
        {
          "output_type": "stream",
          "text": [
            "\b\b\b\b\b\b\b\b\b\b\b\b\b\b\b\b\b\b\b\b\b\b\b\b\b\b\b\b\b\b\b\b\b\b\b\b\b\b\b\b\b\b\b\b\b\b\b\b\b\b\b\b\b\b\b\b\b\b\b\b\b\b\b\b\b\b\b\b\b\b\b\b\b\b\b\b\b\b\b\b\b\r1563/1562 [==============================] - 290s 185ms/step - loss: 0.7810 - acc: 0.7278 - val_loss: 0.9758 - val_acc: 0.7126\n",
            "Removing old cloud file 4B_008_0.6835.h5\n"
          ],
          "name": "stdout"
        },
        {
          "output_type": "stream",
          "text": [
            "Uploading file 4B_008_0.7126.h5 to folder Colab Notebooks: 100%|██████████| 100/100 [00:00<00:00, 106.05it/s]"
          ],
          "name": "stderr"
        },
        {
          "output_type": "stream",
          "text": [
            "Epoch 9/50\n",
            "\r   1/1562 [..............................] - ETA: 4:45 - loss: 0.4284 - acc: 0.8125"
          ],
          "name": "stdout"
        },
        {
          "output_type": "stream",
          "text": [
            "\n"
          ],
          "name": "stderr"
        },
        {
          "output_type": "stream",
          "text": [
            "1562/1562 [============================>.] - ETA: 0s - loss: 0.7424 - acc: 0.7421"
          ],
          "name": "stdout"
        },
        {
          "output_type": "stream",
          "text": [
            "\b\b\b\b\b\b\b\b\b\b\b\b\b\b\b\b\b\b\b\b\b\b\b\b\b\b\b\b\b\b\b\b\b\b\b\b\b\b\b\b\b\b\b\b\b\b\b\b\b\b\b\b\b\b\b\b\b\b\b\b\b\b\b\b\b\b\b\b\b\b\b\b\b\b\b\b\b\b\b\b\b\r1563/1562 [==============================] - 290s 186ms/step - loss: 0.7423 - acc: 0.7421 - val_loss: 0.7930 - val_acc: 0.7551\n",
            "Removing old cloud file 4B_008_0.7126.h5\n"
          ],
          "name": "stdout"
        },
        {
          "output_type": "stream",
          "text": [
            "Uploading file 4B_008_0.7551.h5 to folder Colab Notebooks: 100%|██████████| 100/100 [00:02<00:00, 41.72it/s]\n"
          ],
          "name": "stderr"
        },
        {
          "output_type": "stream",
          "text": [
            "Epoch 10/50\n",
            "1562/1562 [============================>.] - ETA: 0s - loss: 0.7186 - acc: 0.7509"
          ],
          "name": "stdout"
        },
        {
          "output_type": "stream",
          "text": [
            "1563/1562 [==============================] - 292s 187ms/step - loss: 0.7186 - acc: 0.7509 - val_loss: 0.9146 - val_acc: 0.7317\n",
            "No improvement.\n",
            "Epoch 11/50\n",
            " 419/1562 [=======>......................] - ETA: 3:20 - loss: 0.7101 - acc: 0.7501"
          ],
          "name": "stdout"
        },
        {
          "output_type": "stream",
          "text": [
            "1563/1562 [==============================] - 290s 186ms/step - loss: 0.6911 - acc: 0.7598 - val_loss: 1.0775 - val_acc: 0.7051\n",
            "No improvement.\n",
            "Epoch 12/50\n",
            "  22/1562 [..............................] - ETA: 4:32 - loss: 0.6239 - acc: 0.7812"
          ],
          "name": "stdout"
        },
        {
          "output_type": "stream",
          "text": [
            "1562/1562 [============================>.] - ETA: 0s - loss: 0.6669 - acc: 0.7683"
          ],
          "name": "stdout"
        },
        {
          "output_type": "stream",
          "text": [
            "1563/1562 [==============================] - 290s 186ms/step - loss: 0.6667 - acc: 0.7684 - val_loss: 1.0147 - val_acc: 0.7199\n",
            "No improvement.\n",
            "Epoch 13/50\n",
            " 419/1562 [=======>......................] - ETA: 3:20 - loss: 0.6411 - acc: 0.7768"
          ],
          "name": "stdout"
        },
        {
          "output_type": "stream",
          "text": [
            "1563/1562 [==============================] - 290s 185ms/step - loss: 0.6452 - acc: 0.7760 - val_loss: 0.9078 - val_acc: 0.7571\n",
            "Removing old cloud file 4B_008_0.7551.h5\n"
          ],
          "name": "stdout"
        },
        {
          "output_type": "stream",
          "text": [
            "Uploading file 4B_008_0.7571.h5 to folder Colab Notebooks: 100%|██████████| 100/100 [00:00<00:00, 114.83it/s]"
          ],
          "name": "stderr"
        },
        {
          "output_type": "stream",
          "text": [
            "Epoch 14/50\n",
            "\r   1/1562 [..............................] - ETA: 4:54 - loss: 1.0348 - acc: 0.7188"
          ],
          "name": "stdout"
        },
        {
          "output_type": "stream",
          "text": [
            "\n"
          ],
          "name": "stderr"
        },
        {
          "output_type": "stream",
          "text": [
            "1562/1562 [============================>.] - ETA: 0s - loss: 0.6262 - acc: 0.7805"
          ],
          "name": "stdout"
        },
        {
          "output_type": "stream",
          "text": [
            "\b\b\b\b\b\b\b\b\b\b\b\b\b\b\b\b\b\b\b\b\b\b\b\b\b\b\b\b\b\b\b\b\b\b\b\b\b\b\b\b\b\b\b\b\b\b\b\b\b\b\b\b\b\b\b\b\b\b\b\b\b\b\b\b\b\b\b\b\b\b\b\b\b\b\b\b\b\b\b\b\b\r1563/1562 [==============================] - 289s 185ms/step - loss: 0.6263 - acc: 0.7805 - val_loss: 0.8261 - val_acc: 0.7715\n",
            "Removing old cloud file 4B_008_0.7571.h5\n"
          ],
          "name": "stdout"
        },
        {
          "output_type": "stream",
          "text": [
            "Uploading file 4B_008_0.7715.h5 to folder Colab Notebooks: 100%|██████████| 100/100 [00:00<00:00, 132.38it/s]"
          ],
          "name": "stderr"
        },
        {
          "output_type": "stream",
          "text": [
            "Epoch 15/50\n",
            "\r   1/1562 [..............................] - ETA: 4:42 - loss: 0.6598 - acc: 0.7500"
          ],
          "name": "stdout"
        },
        {
          "output_type": "stream",
          "text": [
            "\n"
          ],
          "name": "stderr"
        },
        {
          "output_type": "stream",
          "text": [
            "1562/1562 [============================>.] - ETA: 0s - loss: 0.6078 - acc: 0.7898"
          ],
          "name": "stdout"
        },
        {
          "output_type": "stream",
          "text": [
            "\b\b\b\b\b\b\b\b\b\b\b\b\b\b\b\b\b\b\b\b\b\b\b\b\b\b\b\b\b\b\b\b\b\b\b\b\b\b\b\b\b\b\b\b\b\b\b\b\b\b\b\b\b\b\b\b\b\b\b\b\b\b\b\b\b\b\b\b\b\b\b\b\b\b\b\b\b\b\b\b\b\r1563/1562 [==============================] - 290s 185ms/step - loss: 0.6078 - acc: 0.7898 - val_loss: 0.7853 - val_acc: 0.7806\n",
            "Removing old cloud file 4B_008_0.7715.h5\n"
          ],
          "name": "stdout"
        },
        {
          "output_type": "stream",
          "text": [
            "Uploading file 4B_008_0.7806.h5 to folder Colab Notebooks: 100%|██████████| 100/100 [00:00<00:00, 120.56it/s]"
          ],
          "name": "stderr"
        },
        {
          "output_type": "stream",
          "text": [
            "Epoch 16/50\n",
            "\r   1/1562 [..............................] - ETA: 4:25 - loss: 0.4294 - acc: 0.8750"
          ],
          "name": "stdout"
        },
        {
          "output_type": "stream",
          "text": [
            "\n"
          ],
          "name": "stderr"
        },
        {
          "output_type": "stream",
          "text": [
            "1562/1562 [============================>.] - ETA: 0s - loss: 0.5973 - acc: 0.7944"
          ],
          "name": "stdout"
        },
        {
          "output_type": "stream",
          "text": [
            "\b\b\b\b\b\b\b\b\b\b\b\b\b\b\b\b\b\b\b\b\b\b\b\b\b\b\b\b\b\b\b\b\b\b\b\b\b\b\b\b\b\b\b\b\b\b\b\b\b\b\b\b\b\b\b\b\b\b\b\b\b\b\b\b\b\b\b\b\b\b\b\b\b\b\b\b\b\b\b\b\b\r1563/1562 [==============================] - 289s 185ms/step - loss: 0.5973 - acc: 0.7944 - val_loss: 0.7060 - val_acc: 0.8039\n",
            "Removing old cloud file 4B_008_0.7806.h5\n"
          ],
          "name": "stdout"
        },
        {
          "output_type": "stream",
          "text": [
            "Uploading file 4B_008_0.8039.h5 to folder Colab Notebooks: 100%|██████████| 100/100 [00:00<00:00, 127.93it/s]"
          ],
          "name": "stderr"
        },
        {
          "output_type": "stream",
          "text": [
            "Epoch 17/50\n",
            "\r   1/1562 [..............................] - ETA: 4:31 - loss: 0.5532 - acc: 0.8125"
          ],
          "name": "stdout"
        },
        {
          "output_type": "stream",
          "text": [
            "\n"
          ],
          "name": "stderr"
        },
        {
          "output_type": "stream",
          "text": [
            "1562/1562 [============================>.] - ETA: 0s - loss: 0.5802 - acc: 0.7997"
          ],
          "name": "stdout"
        },
        {
          "output_type": "stream",
          "text": [
            "1563/1562 [==============================] - 290s 185ms/step - loss: 0.5803 - acc: 0.7997 - val_loss: 0.7057 - val_acc: 0.7954\n",
            "No improvement.\n",
            "Epoch 18/50\n",
            " 419/1562 [=======>......................] - ETA: 3:20 - loss: 0.5604 - acc: 0.8031"
          ],
          "name": "stdout"
        },
        {
          "output_type": "stream",
          "text": [
            "1563/1562 [==============================] - 290s 186ms/step - loss: 0.5585 - acc: 0.8053 - val_loss: 0.7702 - val_acc: 0.7826\n",
            "No improvement.\n",
            "Epoch 19/50\n",
            "  22/1562 [..............................] - ETA: 4:29 - loss: 0.5648 - acc: 0.8054"
          ],
          "name": "stdout"
        },
        {
          "output_type": "stream",
          "text": [
            "1562/1562 [============================>.] - ETA: 0s - loss: 0.5526 - acc: 0.8077"
          ],
          "name": "stdout"
        },
        {
          "output_type": "stream",
          "text": [
            "1563/1562 [==============================] - 289s 185ms/step - loss: 0.5525 - acc: 0.8078 - val_loss: 0.6989 - val_acc: 0.7955\n",
            "No improvement.\n",
            "Epoch 20/50\n",
            " 419/1562 [=======>......................] - ETA: 3:20 - loss: 0.5421 - acc: 0.8135"
          ],
          "name": "stdout"
        },
        {
          "output_type": "stream",
          "text": [
            "1563/1562 [==============================] - 289s 185ms/step - loss: 0.5411 - acc: 0.8128 - val_loss: 0.9413 - val_acc: 0.7390\n",
            "No improvement.\n",
            "Epoch 21/50\n",
            "  22/1562 [..............................] - ETA: 4:31 - loss: 0.5203 - acc: 0.8011"
          ],
          "name": "stdout"
        },
        {
          "output_type": "stream",
          "text": [
            "1562/1562 [============================>.] - ETA: 0s - loss: 0.5289 - acc: 0.8157"
          ],
          "name": "stdout"
        },
        {
          "output_type": "stream",
          "text": [
            "1563/1562 [==============================] - 290s 186ms/step - loss: 0.5289 - acc: 0.8157 - val_loss: 0.8088 - val_acc: 0.7782\n",
            "No improvement.\n",
            "Epoch 22/50\n",
            " 419/1562 [=======>......................] - ETA: 3:20 - loss: 0.5290 - acc: 0.8173"
          ],
          "name": "stdout"
        },
        {
          "output_type": "stream",
          "text": [
            "1563/1562 [==============================] - 290s 185ms/step - loss: 0.5206 - acc: 0.8202 - val_loss: 0.5576 - val_acc: 0.8294\n",
            "Removing old cloud file 4B_008_0.8039.h5\n"
          ],
          "name": "stdout"
        },
        {
          "output_type": "stream",
          "text": [
            "Uploading file 4B_008_0.8294.h5 to folder Colab Notebooks: 100%|██████████| 100/100 [00:00<00:00, 121.65it/s]\n"
          ],
          "name": "stderr"
        },
        {
          "output_type": "stream",
          "text": [
            "Epoch 23/50\n",
            "1562/1562 [============================>.] - ETA: 0s - loss: 0.5062 - acc: 0.8248"
          ],
          "name": "stdout"
        },
        {
          "output_type": "stream",
          "text": [
            "1563/1562 [==============================] - 292s 187ms/step - loss: 0.5060 - acc: 0.8249 - val_loss: 0.8235 - val_acc: 0.7791\n",
            "No improvement.\n",
            "Epoch 24/50\n",
            " 419/1562 [=======>......................] - ETA: 3:20 - loss: 0.5035 - acc: 0.8262"
          ],
          "name": "stdout"
        },
        {
          "output_type": "stream",
          "text": [
            "1563/1562 [==============================] - 290s 185ms/step - loss: 0.5007 - acc: 0.8262 - val_loss: 0.8625 - val_acc: 0.7772\n",
            "No improvement.\n",
            "Epoch 25/50\n",
            "  22/1562 [..............................] - ETA: 4:30 - loss: 0.4675 - acc: 0.8295"
          ],
          "name": "stdout"
        },
        {
          "output_type": "stream",
          "text": [
            "1562/1562 [============================>.] - ETA: 0s - loss: 0.4910 - acc: 0.8294"
          ],
          "name": "stdout"
        },
        {
          "output_type": "stream",
          "text": [
            "\b\b\b\b\b\b\b\b\b\b\b\b\b\b\b\b\b\b\b\b\b\b\b\b\b\b\b\b\b\b\b\b\b\b\b\b\b\b\b\b\b\b\b\b\b\b\b\b\b\b\b\b\b\b\b\b\b\b\b\b\b\b\b\b\b\b\b\b\b\b\b\b\b\b\b\b\b\b\b\b\b\r1563/1562 [==============================] - 290s 186ms/step - loss: 0.4912 - acc: 0.8293 - val_loss: 0.5541 - val_acc: 0.8366\n",
            "Removing old cloud file 4B_008_0.8294.h5\n"
          ],
          "name": "stdout"
        },
        {
          "output_type": "stream",
          "text": [
            "Uploading file 4B_008_0.8366.h5 to folder Colab Notebooks: 100%|██████████| 100/100 [00:00<00:00, 122.24it/s]\n"
          ],
          "name": "stderr"
        },
        {
          "output_type": "stream",
          "text": [
            "Epoch 26/50\n",
            "1562/1562 [============================>.] - ETA: 0s - loss: 0.4844 - acc: 0.8324"
          ],
          "name": "stdout"
        },
        {
          "output_type": "stream",
          "text": [
            "1563/1562 [==============================] - 292s 187ms/step - loss: 0.4844 - acc: 0.8324 - val_loss: 0.6949 - val_acc: 0.8114\n",
            "No improvement.\n",
            "Epoch 27/50\n",
            " 419/1562 [=======>......................] - ETA: 3:19 - loss: 0.4860 - acc: 0.8317"
          ],
          "name": "stdout"
        },
        {
          "output_type": "stream",
          "text": [
            "1563/1562 [==============================] - 289s 185ms/step - loss: 0.4781 - acc: 0.8332 - val_loss: 0.7442 - val_acc: 0.8032\n",
            "No improvement.\n",
            "Epoch 28/50\n",
            "  22/1562 [..............................] - ETA: 4:30 - loss: 0.4845 - acc: 0.8466"
          ],
          "name": "stdout"
        },
        {
          "output_type": "stream",
          "text": [
            "1562/1562 [============================>.] - ETA: 0s - loss: 0.4667 - acc: 0.8378"
          ],
          "name": "stdout"
        },
        {
          "output_type": "stream",
          "text": [
            "1563/1562 [==============================] - 289s 185ms/step - loss: 0.4666 - acc: 0.8378 - val_loss: 0.5821 - val_acc: 0.8359\n",
            "No improvement.\n",
            "Epoch 29/50\n",
            " 419/1562 [=======>......................] - ETA: 3:21 - loss: 0.4667 - acc: 0.8384"
          ],
          "name": "stdout"
        },
        {
          "output_type": "stream",
          "text": [
            "1563/1562 [==============================] - 289s 185ms/step - loss: 0.4652 - acc: 0.8401 - val_loss: 0.8044 - val_acc: 0.7822\n",
            "No improvement.\n",
            "Epoch 30/50\n",
            "  22/1562 [..............................] - ETA: 4:34 - loss: 0.4087 - acc: 0.8565"
          ],
          "name": "stdout"
        },
        {
          "output_type": "stream",
          "text": [
            "1562/1562 [============================>.] - ETA: 0s - loss: 0.4557 - acc: 0.8413"
          ],
          "name": "stdout"
        },
        {
          "output_type": "stream",
          "text": [
            "1563/1562 [==============================] - 290s 185ms/step - loss: 0.4556 - acc: 0.8414 - val_loss: 0.5747 - val_acc: 0.8359\n",
            "No improvement.\n",
            "Epoch 31/50\n",
            " 419/1562 [=======>......................] - ETA: 3:20 - loss: 0.4396 - acc: 0.8472"
          ],
          "name": "stdout"
        },
        {
          "output_type": "stream",
          "text": [
            "1563/1562 [==============================] - 289s 185ms/step - loss: 0.4522 - acc: 0.8430 - val_loss: 0.4384 - val_acc: 0.8647\n",
            "Removing old cloud file 4B_008_0.8366.h5\n"
          ],
          "name": "stdout"
        },
        {
          "output_type": "stream",
          "text": [
            "Uploading file 4B_008_0.8647.h5 to folder Colab Notebooks: 100%|██████████| 100/100 [00:00<00:00, 121.93it/s]"
          ],
          "name": "stderr"
        },
        {
          "output_type": "stream",
          "text": [
            "Epoch 32/50\n",
            "\r   1/1562 [..............................] - ETA: 4:31 - loss: 0.6556 - acc: 0.7500"
          ],
          "name": "stdout"
        },
        {
          "output_type": "stream",
          "text": [
            "\n"
          ],
          "name": "stderr"
        },
        {
          "output_type": "stream",
          "text": [
            "1562/1562 [============================>.] - ETA: 0s - loss: 0.4434 - acc: 0.8466"
          ],
          "name": "stdout"
        },
        {
          "output_type": "stream",
          "text": [
            "1563/1562 [==============================] - 289s 185ms/step - loss: 0.4435 - acc: 0.8465 - val_loss: 0.8031 - val_acc: 0.7942\n",
            "No improvement.\n",
            "Epoch 33/50\n",
            " 419/1562 [=======>......................] - ETA: 3:20 - loss: 0.4291 - acc: 0.8507"
          ],
          "name": "stdout"
        },
        {
          "output_type": "stream",
          "text": [
            "1563/1562 [==============================] - 290s 186ms/step - loss: 0.4373 - acc: 0.8484 - val_loss: 0.6527 - val_acc: 0.8171\n",
            "No improvement.\n",
            "Epoch 34/50\n",
            "  22/1562 [..............................] - ETA: 4:31 - loss: 0.4620 - acc: 0.8509"
          ],
          "name": "stdout"
        },
        {
          "output_type": "stream",
          "text": [
            "1562/1562 [============================>.] - ETA: 0s - loss: 0.4324 - acc: 0.8509"
          ],
          "name": "stdout"
        },
        {
          "output_type": "stream",
          "text": [
            "1563/1562 [==============================] - 290s 185ms/step - loss: 0.4322 - acc: 0.8510 - val_loss: 0.6321 - val_acc: 0.8316\n",
            "No improvement.\n",
            "Epoch 35/50\n",
            " 419/1562 [=======>......................] - ETA: 3:20 - loss: 0.4209 - acc: 0.8530"
          ],
          "name": "stdout"
        },
        {
          "output_type": "stream",
          "text": [
            "1563/1562 [==============================] - 289s 185ms/step - loss: 0.4270 - acc: 0.8511 - val_loss: 0.4969 - val_acc: 0.8548\n",
            "No improvement.\n",
            "Epoch 36/50\n",
            "  22/1562 [..............................] - ETA: 4:27 - loss: 0.3991 - acc: 0.8622"
          ],
          "name": "stdout"
        },
        {
          "output_type": "stream",
          "text": [
            "1562/1562 [============================>.] - ETA: 0s - loss: 0.4255 - acc: 0.8537"
          ],
          "name": "stdout"
        },
        {
          "output_type": "stream",
          "text": [
            "1563/1562 [==============================] - 290s 185ms/step - loss: 0.4255 - acc: 0.8537 - val_loss: 0.5953 - val_acc: 0.8337\n",
            "No improvement.\n",
            "Epoch 37/50\n",
            " 419/1562 [=======>......................] - ETA: 3:19 - loss: 0.4044 - acc: 0.8605"
          ],
          "name": "stdout"
        },
        {
          "output_type": "stream",
          "text": [
            "1563/1562 [==============================] - 289s 185ms/step - loss: 0.4174 - acc: 0.8563 - val_loss: 0.5712 - val_acc: 0.8393\n",
            "No improvement.\n",
            "Epoch 38/50\n",
            "  22/1562 [..............................] - ETA: 4:32 - loss: 0.3975 - acc: 0.8750"
          ],
          "name": "stdout"
        },
        {
          "output_type": "stream",
          "text": [
            "1562/1562 [============================>.] - ETA: 0s - loss: 0.4145 - acc: 0.8567"
          ],
          "name": "stdout"
        },
        {
          "output_type": "stream",
          "text": [
            "1563/1562 [==============================] - 290s 185ms/step - loss: 0.4144 - acc: 0.8567 - val_loss: 0.5034 - val_acc: 0.8522\n",
            "No improvement.\n",
            "Epoch 39/50\n",
            " 419/1562 [=======>......................] - ETA: 3:20 - loss: 0.3973 - acc: 0.8625"
          ],
          "name": "stdout"
        },
        {
          "output_type": "stream",
          "text": [
            "1563/1562 [==============================] - 290s 185ms/step - loss: 0.4083 - acc: 0.8577 - val_loss: 0.4485 - val_acc: 0.8685\n",
            "Removing old cloud file 4B_008_0.8647.h5\n"
          ],
          "name": "stdout"
        },
        {
          "output_type": "stream",
          "text": [
            "Uploading file 4B_008_0.8685.h5 to folder Colab Notebooks: 100%|██████████| 100/100 [00:00<00:00, 108.90it/s]"
          ],
          "name": "stderr"
        },
        {
          "output_type": "stream",
          "text": [
            "Epoch 40/50\n",
            "\r   1/1562 [..............................] - ETA: 4:38 - loss: 0.6622 - acc: 0.8438"
          ],
          "name": "stdout"
        },
        {
          "output_type": "stream",
          "text": [
            "\n"
          ],
          "name": "stderr"
        },
        {
          "output_type": "stream",
          "text": [
            "1562/1562 [============================>.] - ETA: 0s - loss: 0.4061 - acc: 0.8599"
          ],
          "name": "stdout"
        },
        {
          "output_type": "stream",
          "text": [
            "1563/1562 [==============================] - 289s 185ms/step - loss: 0.4061 - acc: 0.8599 - val_loss: 0.5512 - val_acc: 0.8466\n",
            "No improvement.\n",
            "Epoch 41/50\n",
            " 419/1562 [=======>......................] - ETA: 3:20 - loss: 0.3815 - acc: 0.8665"
          ],
          "name": "stdout"
        },
        {
          "output_type": "stream",
          "text": [
            "1563/1562 [==============================] - 289s 185ms/step - loss: 0.4005 - acc: 0.8601 - val_loss: 0.5560 - val_acc: 0.8412\n",
            "No improvement.\n",
            "Epoch 42/50\n",
            "  22/1562 [..............................] - ETA: 4:29 - loss: 0.3998 - acc: 0.8466"
          ],
          "name": "stdout"
        },
        {
          "output_type": "stream",
          "text": [
            "1562/1562 [============================>.] - ETA: 0s - loss: 0.4007 - acc: 0.8610"
          ],
          "name": "stdout"
        },
        {
          "output_type": "stream",
          "text": [
            "1563/1562 [==============================] - 290s 186ms/step - loss: 0.4005 - acc: 0.8610 - val_loss: 0.5741 - val_acc: 0.8440\n",
            "No improvement.\n",
            "Epoch 43/50\n",
            " 419/1562 [=======>......................] - ETA: 3:21 - loss: 0.3901 - acc: 0.8663"
          ],
          "name": "stdout"
        },
        {
          "output_type": "stream",
          "text": [
            "1563/1562 [==============================] - 290s 185ms/step - loss: 0.3876 - acc: 0.8653 - val_loss: 0.7207 - val_acc: 0.8227\n",
            "No improvement.\n",
            "Epoch 44/50\n",
            "  22/1562 [..............................] - ETA: 4:34 - loss: 0.3076 - acc: 0.8878"
          ],
          "name": "stdout"
        },
        {
          "output_type": "stream",
          "text": [
            "1562/1562 [============================>.] - ETA: 0s - loss: 0.3899 - acc: 0.8627"
          ],
          "name": "stdout"
        },
        {
          "output_type": "stream",
          "text": [
            "1563/1562 [==============================] - 289s 185ms/step - loss: 0.3898 - acc: 0.8627 - val_loss: 0.5128 - val_acc: 0.8587\n",
            "No improvement.\n",
            "Epoch 45/50\n",
            " 419/1562 [=======>......................] - ETA: 3:19 - loss: 0.3746 - acc: 0.8722"
          ],
          "name": "stdout"
        },
        {
          "output_type": "stream",
          "text": [
            "1563/1562 [==============================] - 289s 185ms/step - loss: 0.3875 - acc: 0.8653 - val_loss: 0.6468 - val_acc: 0.8287\n",
            "No improvement.\n",
            "Epoch 46/50\n",
            "  22/1562 [..............................] - ETA: 4:22 - loss: 0.4343 - acc: 0.8651"
          ],
          "name": "stdout"
        },
        {
          "output_type": "stream",
          "text": [
            "1562/1562 [============================>.] - ETA: 0s - loss: 0.3868 - acc: 0.8656"
          ],
          "name": "stdout"
        },
        {
          "output_type": "stream",
          "text": [
            "1563/1562 [==============================] - 289s 185ms/step - loss: 0.3869 - acc: 0.8656 - val_loss: 0.5023 - val_acc: 0.8574\n",
            "No improvement.\n",
            "Epoch 47/50\n",
            " 419/1562 [=======>......................] - ETA: 3:20 - loss: 0.3729 - acc: 0.8707"
          ],
          "name": "stdout"
        },
        {
          "output_type": "stream",
          "text": [
            "1563/1562 [==============================] - 289s 185ms/step - loss: 0.3790 - acc: 0.8669 - val_loss: 0.4761 - val_acc: 0.8650\n",
            "No improvement.\n",
            "Epoch 48/50\n",
            "  22/1562 [..............................] - ETA: 4:32 - loss: 0.3728 - acc: 0.8679"
          ],
          "name": "stdout"
        },
        {
          "output_type": "stream",
          "text": [
            "1562/1562 [============================>.] - ETA: 0s - loss: 0.3734 - acc: 0.8697"
          ],
          "name": "stdout"
        },
        {
          "output_type": "stream",
          "text": [
            "1563/1562 [==============================] - 289s 185ms/step - loss: 0.3735 - acc: 0.8697 - val_loss: 0.5332 - val_acc: 0.8557\n",
            "No improvement.\n",
            "Epoch 49/50\n",
            " 419/1562 [=======>......................] - ETA: 3:20 - loss: 0.3555 - acc: 0.8770"
          ],
          "name": "stdout"
        },
        {
          "output_type": "stream",
          "text": [
            "1563/1562 [==============================] - 290s 185ms/step - loss: 0.3736 - acc: 0.8703 - val_loss: 0.4520 - val_acc: 0.8740\n",
            "Removing old cloud file 4B_008_0.8685.h5\n"
          ],
          "name": "stdout"
        },
        {
          "output_type": "stream",
          "text": [
            "Uploading file 4B_008_0.874.h5 to folder Colab Notebooks: 100%|██████████| 100/100 [00:00<00:00, 116.64it/s]\n"
          ],
          "name": "stderr"
        },
        {
          "output_type": "stream",
          "text": [
            "Epoch 50/50\n",
            "1562/1562 [============================>.] - ETA: 0s - loss: 0.3677 - acc: 0.8716"
          ],
          "name": "stdout"
        },
        {
          "output_type": "stream",
          "text": [
            "\b\b\b\b\b\b\b\b\b\b\b\b\b\b\b\b\b\b\b\b\b\b\b\b\b\b\b\b\b\b\b\b\b\b\b\b\b\b\b\b\b\b\b\b\b\b\b\b\b\b\b\b\b\b\b\b\b\b\b\b\b\b\b\b\b\b\b\b\b\b\b\b\b\b\b\b\b\b\b\b\b\r1563/1562 [==============================] - 291s 186ms/step - loss: 0.3677 - acc: 0.8716 - val_loss: 0.4548 - val_acc: 0.8699\n",
            "No improvement.\n"
          ],
          "name": "stdout"
        },
        {
          "output_type": "execute_result",
          "data": {
            "text/plain": [
              "<keras.callbacks.History at 0x7fea0149a668>"
            ]
          },
          "metadata": {
            "tags": []
          },
          "execution_count": 18
        }
      ]
    },
    {
      "metadata": {
        "id": "l_y5QoBdE4ls",
        "colab_type": "code",
        "colab": {
          "base_uri": "https://localhost:8080/",
          "height": 36
        },
        "outputId": "96735ecd-ed09-44c5-ef01-2a761de4d970"
      },
      "cell_type": "code",
      "source": [
        "# Save the trained weights in to .h5 format\n",
        "model.save_weights(\"saved_model.h5\")\n",
        "print(\"Saved model to disk\")"
      ],
      "execution_count": 19,
      "outputs": [
        {
          "output_type": "stream",
          "text": [
            "Saved model to disk\n"
          ],
          "name": "stdout"
        }
      ]
    }
  ]
}